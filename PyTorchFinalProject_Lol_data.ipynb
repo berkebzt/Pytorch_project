{
 "cells": [
  {
   "cell_type": "code",
   "execution_count": 1,
   "id": "10c06d69",
   "metadata": {},
   "outputs": [],
   "source": [
    "from sklearn.model_selection import train_test_split\n",
    "import pandas as pd\n",
    "from sklearn.preprocessing import StandardScaler\n",
    "import torch\n",
    "import torch.nn as nn\n",
    "import torch.optim as optim"
   ]
  },
  {
   "cell_type": "code",
   "execution_count": 2,
   "id": "28af5481",
   "metadata": {},
   "outputs": [],
   "source": [
    "df = pd.read_csv(\"LeagueofLegends.csv\")"
   ]
  },
  {
   "cell_type": "code",
   "execution_count": 3,
   "id": "9a115308",
   "metadata": {},
   "outputs": [],
   "source": [
    "X = df.select_dtypes(include=['float64', 'int64']).drop(columns=['bResult', 'rResult'])  # Features\n",
    "y = df['bResult']  # Target"
   ]
  },
  {
   "cell_type": "code",
   "execution_count": 4,
   "id": "12e48e5e",
   "metadata": {},
   "outputs": [],
   "source": [
    "# Splitting the dataset into train and test sets\n",
    "X_train, X_test, y_train, y_test = train_test_split(X, y, test_size=0.2, random_state=42)"
   ]
  },
  {
   "cell_type": "code",
   "execution_count": 5,
   "id": "e6e4982a",
   "metadata": {},
   "outputs": [],
   "source": [
    "# Standardizing the features\n",
    "scaler = StandardScaler()\n",
    "X_train_scaled = scaler.fit_transform(X_train)\n",
    "X_test_scaled = scaler.transform(X_test)"
   ]
  },
  {
   "cell_type": "code",
   "execution_count": 6,
   "id": "06a3b15e",
   "metadata": {},
   "outputs": [],
   "source": [
    "# Converting to PyTorch tensors\n",
    "X_train_tensor = torch.tensor(X_train_scaled, dtype=torch.float32)\n",
    "X_test_tensor = torch.tensor(X_test_scaled, dtype=torch.float32)\n",
    "y_train_tensor = torch.tensor(y_train.values, dtype=torch.float32)\n",
    "y_test_tensor = torch.tensor(y_test.values, dtype=torch.float32)"
   ]
  },
  {
   "cell_type": "code",
   "execution_count": 7,
   "id": "b7c715cb",
   "metadata": {},
   "outputs": [
    {
     "name": "stdout",
     "output_type": "stream",
     "text": [
      "torch.Size([6096, 2]) torch.Size([1524, 2]) torch.Size([6096]) torch.Size([1524])\n"
     ]
    }
   ],
   "source": [
    "print(X_train_tensor.shape, X_test_tensor.shape, y_train_tensor.shape, y_test_tensor.shape)"
   ]
  },
  {
   "cell_type": "code",
   "execution_count": 8,
   "id": "80336f5e",
   "metadata": {},
   "outputs": [],
   "source": [
    "# Define the logistic regression model class\n",
    "\n",
    "class LogRegModel(nn.Module):\n",
    "    def __init__(self, input_dim):\n",
    "        super(LogRegModel, self).__init__()\n",
    "        # Linear layer with a single output\n",
    "        self.linear = nn.Linear(input_dim, 1)\n",
    "    \n",
    "    def forward(self, x):\n",
    "        # Apply the linear layer followed by a sigmoid activation for binary classification\n",
    "        return torch.sigmoid(self.linear(x))"
   ]
  },
  {
   "cell_type": "code",
   "execution_count": 9,
   "id": "20626098",
   "metadata": {},
   "outputs": [],
   "source": [
    "input_dim = X_train_tensor.shape[1]  # Number of features"
   ]
  },
  {
   "cell_type": "code",
   "execution_count": 11,
   "id": "a133665a",
   "metadata": {},
   "outputs": [],
   "source": [
    "model = LogRegModel(input_dim)\n",
    "criterion = nn.BCELoss()  # Binary Cross-Entropy Loss\n",
    "optimizer = optim.SGD(model.parameters(), lr=0.01) "
   ]
  },
  {
   "cell_type": "code",
   "execution_count": 12,
   "id": "6e835054",
   "metadata": {},
   "outputs": [
    {
     "name": "stdout",
     "output_type": "stream",
     "text": [
      "LogRegModel(\n",
      "  (linear): Linear(in_features=2, out_features=1, bias=True)\n",
      ")\n"
     ]
    }
   ],
   "source": [
    "print(model)"
   ]
  },
  {
   "cell_type": "code",
   "execution_count": 13,
   "id": "0314100f",
   "metadata": {},
   "outputs": [],
   "source": [
    "num_epochs = 100\n",
    "learning_rate = 0.01"
   ]
  },
  {
   "cell_type": "code",
   "execution_count": 14,
   "id": "0c8cd783",
   "metadata": {},
   "outputs": [
    {
     "name": "stdout",
     "output_type": "stream",
     "text": [
      "Epoch [10/100], Loss: 0.7703\n",
      "Epoch [20/100], Loss: 0.7666\n",
      "Epoch [30/100], Loss: 0.7631\n",
      "Epoch [40/100], Loss: 0.7598\n",
      "Epoch [50/100], Loss: 0.7566\n",
      "Epoch [60/100], Loss: 0.7535\n",
      "Epoch [70/100], Loss: 0.7505\n",
      "Epoch [80/100], Loss: 0.7477\n",
      "Epoch [90/100], Loss: 0.7449\n",
      "Epoch [100/100], Loss: 0.7423\n"
     ]
    }
   ],
   "source": [
    "# Training loop\n",
    "for epoch in range(num_epochs):\n",
    " \n",
    "    model.train()\n",
    "    \n",
    "    # Forward pass: compute predictions and loss\n",
    "    outputs = model(X_train_tensor).squeeze()  # Squeeze to match target dimensions\n",
    "    loss = criterion(outputs, y_train_tensor)\n",
    "    \n",
    "   \n",
    "    optimizer.zero_grad()  # Clear gradients\n",
    "    loss.backward()        # Backpropagation\n",
    "    optimizer.step()       # Update model parameters\n",
    "\n",
    "    # Print loss every 10 epochs for tracking\n",
    "    if (epoch+1) % 10 == 0:\n",
    "        print(f'Epoch [{epoch+1}/{num_epochs}], Loss: {loss.item():.4f}')\n"
   ]
  },
  {
   "cell_type": "code",
   "execution_count": 15,
   "id": "46cb8098",
   "metadata": {},
   "outputs": [],
   "source": [
    "def evaluate_model(model, X, y):\n",
    "    model.eval()  # Set model to evaluation mode\n",
    "    with torch.no_grad():  # Disable gradient computation\n",
    "        predictions = model(X).squeeze() >= 0.5  # Predict class (1 if >=0.5, else 0)\n",
    "        accuracy = (predictions == y).float().mean()  # Calculate accuracy\n",
    "    return accuracy.item()"
   ]
  },
  {
   "cell_type": "code",
   "execution_count": 17,
   "id": "0707ac6c",
   "metadata": {},
   "outputs": [
    {
     "name": "stdout",
     "output_type": "stream",
     "text": [
      "Training Accuracy: 47.18%\n",
      "Testing Accuracy: 46.33%\n"
     ]
    }
   ],
   "source": [
    "train_accuracy = evaluate_model(model, X_train_tensor, y_train_tensor)\n",
    "test_accuracy = evaluate_model(model, X_test_tensor, y_test_tensor)\n",
    "\n",
    "print(f'Training Accuracy: {train_accuracy * 100:.2f}%')\n",
    "print(f'Testing Accuracy: {test_accuracy * 100:.2f}%')"
   ]
  },
  {
   "cell_type": "code",
   "execution_count": 18,
   "id": "30c9d115",
   "metadata": {},
   "outputs": [],
   "source": [
    "weight_decay = 0.01"
   ]
  },
  {
   "cell_type": "code",
   "execution_count": 19,
   "id": "1c0065f5",
   "metadata": {},
   "outputs": [],
   "source": [
    "model = LogRegModel(input_dim)\n",
    "criterion = nn.BCELoss()\n",
    "optimizer = optim.SGD(model.parameters(), lr=learning_rate, weight_decay=weight_decay)  # Adding weight_decay for L2 regularization\n"
   ]
  },
  {
   "cell_type": "code",
   "execution_count": 20,
   "id": "5d62e1f6",
   "metadata": {},
   "outputs": [
    {
     "name": "stdout",
     "output_type": "stream",
     "text": [
      "Epoch [10/100], Loss: 0.7245\n",
      "Epoch [20/100], Loss: 0.7229\n",
      "Epoch [30/100], Loss: 0.7213\n",
      "Epoch [40/100], Loss: 0.7198\n",
      "Epoch [50/100], Loss: 0.7184\n",
      "Epoch [60/100], Loss: 0.7170\n",
      "Epoch [70/100], Loss: 0.7157\n",
      "Epoch [80/100], Loss: 0.7144\n",
      "Epoch [90/100], Loss: 0.7132\n",
      "Epoch [100/100], Loss: 0.7121\n"
     ]
    }
   ],
   "source": [
    "# Retrain the model with L2 regularization\n",
    "for epoch in range(num_epochs):\n",
    "    model.train()\n",
    "    outputs = model(X_train_tensor).squeeze()\n",
    "    loss = criterion(outputs, y_train_tensor)\n",
    "    \n",
    "    optimizer.zero_grad()\n",
    "    loss.backward()\n",
    "    optimizer.step()\n",
    "    \n",
    "    if (epoch+1) % 10 == 0:\n",
    "        print(f'Epoch [{epoch+1}/{num_epochs}], Loss: {loss.item():.4f}')\n"
   ]
  },
  {
   "cell_type": "code",
   "execution_count": 21,
   "id": "8fe487a4",
   "metadata": {},
   "outputs": [
    {
     "name": "stdout",
     "output_type": "stream",
     "text": [
      "Training Accuracy (with L2 regularization): 50.94%\n",
      "Testing Accuracy (with L2 regularization): 51.77%\n"
     ]
    }
   ],
   "source": [
    "train_accuracy = evaluate_model(model, X_train_tensor, y_train_tensor)\n",
    "test_accuracy = evaluate_model(model, X_test_tensor, y_test_tensor)\n",
    "\n",
    "print(f'Training Accuracy (with L2 regularization): {train_accuracy * 100:.2f}%')\n",
    "print(f'Testing Accuracy (with L2 regularization): {test_accuracy * 100:.2f}%')"
   ]
  },
  {
   "cell_type": "code",
   "execution_count": 22,
   "id": "4535e5fb",
   "metadata": {},
   "outputs": [],
   "source": [
    "import matplotlib.pyplot as plt\n",
    "from sklearn.metrics import confusion_matrix, classification_report, roc_curve, auc\n"
   ]
  },
  {
   "cell_type": "code",
   "execution_count": 24,
   "id": "66c23c01",
   "metadata": {},
   "outputs": [],
   "source": [
    "# Generate predictions on the test set\n",
    "model.eval()\n",
    "with torch.no_grad():\n",
    "    y_test_pred_probs = model(X_test_tensor).squeeze()  # Get probabilities\n",
    "    y_test_pred = (y_test_pred_probs >= 0.5).float()    # Convert probabilities to binary predictions\n"
   ]
  },
  {
   "cell_type": "code",
   "execution_count": 25,
   "id": "17314cad",
   "metadata": {},
   "outputs": [
    {
     "data": {
      "image/png": "[encoded data removed]",
      "text/plain": [
       "<Figure size 500x500 with 2 Axes>"
      ]
     },
     "metadata": {},
     "output_type": "display_data"
    }
   ],
   "source": [
    "conf_matrix = confusion_matrix(y_test_tensor, y_test_pred)\n",
    "plt.figure(figsize=(5, 5))\n",
    "plt.imshow(conf_matrix, cmap='Blues', interpolation='nearest')\n",
    "plt.title('Confusion Matrix')\n",
    "plt.colorbar()\n",
    "plt.xlabel('Predicted Label')\n",
    "plt.ylabel('True Label')\n",
    "plt.xticks([0, 1], ['Class 0', 'Class 1'])\n",
    "plt.yticks([0, 1], ['Class 0', 'Class 1'])\n",
    "plt.show()"
   ]
  },
  {
   "cell_type": "code",
   "execution_count": 26,
   "id": "95528f72",
   "metadata": {},
   "outputs": [
    {
     "name": "stdout",
     "output_type": "stream",
     "text": [
      "Classification Report:\n",
      "              precision    recall  f1-score   support\n",
      "\n",
      "         0.0       0.46      0.39      0.42       691\n",
      "         1.0       0.55      0.62      0.58       833\n",
      "\n",
      "    accuracy                           0.52      1524\n",
      "   macro avg       0.51      0.51      0.50      1524\n",
      "weighted avg       0.51      0.52      0.51      1524\n",
      "\n"
     ]
    }
   ],
   "source": [
    "print(\"Classification Report:\")\n",
    "print(classification_report(y_test_tensor, y_test_pred))"
   ]
  },
  {
   "cell_type": "code",
   "execution_count": 27,
   "id": "0c39e47f",
   "metadata": {},
   "outputs": [],
   "source": [
    "# Plot the ROC curve and calculate the AUC\n",
    "fpr, tpr, _ = roc_curve(y_test_tensor, y_test_pred_probs)\n",
    "roc_auc = auc(fpr, tpr)"
   ]
  },
  {
   "cell_type": "code",
   "execution_count": 28,
   "id": "5f951eef",
   "metadata": {},
   "outputs": [
    {
     "data": {
      "image/png": "[encoded data removed]",
      "text/plain": [
       "<Figure size 600x600 with 1 Axes>"
      ]
     },
     "metadata": {},
     "output_type": "display_data"
    }
   ],
   "source": [
    "plt.figure(figsize=(6, 6))\n",
    "plt.plot(fpr, tpr, label=f'ROC Curve (AUC = {roc_auc:.2f})')\n",
    "plt.plot([0, 1], [0, 1], 'k--')  # Diagonal line for random guessing\n",
    "plt.xlabel('False Positive Rate')\n",
    "plt.ylabel('True Positive Rate')\n",
    "plt.title('Receiver Operating Characteristic (ROC) Curve')\n",
    "plt.legend(loc='lower right')\n",
    "plt.show()"
   ]
  },
  {
   "cell_type": "code",
   "execution_count": 30,
   "id": "d09be813",
   "metadata": {},
   "outputs": [
    {
     "name": "stdout",
     "output_type": "stream",
     "text": [
      "Model saved to logistic_regression_model.pth\n",
      "Testing Accuracy of Loaded Model: 51.77%\n"
     ]
    }
   ],
   "source": [
    "# Save the model's state dictionary\n",
    "model_path = 'logistic_regression_model.pth'\n",
    "torch.save(model.state_dict(), model_path)\n",
    "print(f\"Model saved to {model_path}\")\n",
    "\n",
    "# Load the model's state dictionary into a new model instance\n",
    "loaded_model = LogRegModel(input_dim)\n",
    "loaded_model.load_state_dict(torch.load(model_path))\n",
    "loaded_model.eval()  # Set the loaded model to evaluation mode\n",
    "\n",
    "# Evaluate the loaded model on the test set to ensure consistency\n",
    "loaded_test_accuracy = evaluate_model(loaded_model, X_test_tensor, y_test_tensor)\n",
    "print(f'Testing Accuracy of Loaded Model: {loaded_test_accuracy * 100:.2f}%')"
   ]
  },
  {
   "cell_type": "code",
   "execution_count": 31,
   "id": "cde492ed",
   "metadata": {},
   "outputs": [
    {
     "name": "stdout",
     "output_type": "stream",
     "text": [
      "Learning Rate: 0.001, Test Accuracy: 52.82%\n",
      "Learning Rate: 0.01, Test Accuracy: 53.74%\n",
      "Learning Rate: 0.05, Test Accuracy: 52.49%\n",
      "Learning Rate: 0.1, Test Accuracy: 50.07%\n",
      "Learning Rate: 0.2, Test Accuracy: 54.59%\n",
      "Best Learning Rate: 0.2, Test Accuracy: 54.59%\n"
     ]
    }
   ],
   "source": [
    "# List of learning rates to test\n",
    "learning_rates = [0.001, 0.01, 0.05, 0.1, 0.2]\n",
    "num_epochs = 50  # Number of epochs for each trial\n",
    "best_accuracy = 0\n",
    "best_lr = None\n",
    "\n",
    "for lr in learning_rates:\n",
    "    # Reinitialize the model and optimizer for each learning rate\n",
    "    model = LogRegModel(input_dim)\n",
    "    criterion = nn.BCELoss()\n",
    "    optimizer = optim.SGD(model.parameters(), lr=lr)\n",
    "\n",
    "    # Train the model\n",
    "    for epoch in range(num_epochs):\n",
    "        model.train()\n",
    "        outputs = model(X_train_tensor).squeeze()\n",
    "        loss = criterion(outputs, y_train_tensor)\n",
    "        \n",
    "        optimizer.zero_grad()\n",
    "        loss.backward()\n",
    "        optimizer.step()\n",
    "    \n",
    "    # Evaluate the model on the test set\n",
    "    test_accuracy = evaluate_model(model, X_test_tensor, y_test_tensor)\n",
    "    print(f'Learning Rate: {lr}, Test Accuracy: {test_accuracy * 100:.2f}%')\n",
    "    \n",
    "    # Update best learning rate if current accuracy is higher\n",
    "    if test_accuracy > best_accuracy:\n",
    "        best_accuracy = test_accuracy\n",
    "        best_lr = lr\n",
    "\n",
    "# Print the best learning rate and corresponding test accuracy\n",
    "print(f'Best Learning Rate: {best_lr}, Test Accuracy: {best_accuracy * 100:.2f}%')"
   ]
  },
  {
   "cell_type": "code",
   "execution_count": 32,
   "id": "9696c7ec",
   "metadata": {},
   "outputs": [],
   "source": [
    "weights = model.linear.weight.detach().numpy().flatten()  # Convert tensor to numpy array and flatten\n",
    "\n",
    "# Create a DataFrame with feature names and their corresponding weights\n",
    "feature_importance_df = pd.DataFrame({\n",
    "    'Feature': X.columns,\n",
    "    'Importance': weights\n",
    "})"
   ]
  },
  {
   "cell_type": "code",
   "execution_count": 33,
   "id": "724974a5",
   "metadata": {},
   "outputs": [],
   "source": [
    "# Sort the DataFrame by absolute importance values\n",
    "feature_importance_df['Absolute Importance'] = feature_importance_df['Importance'].abs()\n",
    "feature_importance_df = feature_importance_df.sort_values(by='Absolute Importance', ascending=False)\n"
   ]
  },
  {
   "cell_type": "code",
   "execution_count": 34,
   "id": "7c04cc53",
   "metadata": {},
   "outputs": [
    {
     "data": {
      "image/png": "[encoded data removed]",
      "text/plain": [
       "<Figure size 1000x800 with 1 Axes>"
      ]
     },
     "metadata": {},
     "output_type": "display_data"
    }
   ],
   "source": [
    "plt.figure(figsize=(10, 8))\n",
    "plt.barh(feature_importance_df['Feature'], feature_importance_df['Importance'])\n",
    "plt.xlabel('Weight')\n",
    "plt.ylabel('Feature')\n",
    "plt.title('Feature Importance')\n",
    "plt.gca().invert_yaxis()  # Invert y-axis to have the most important feature at the top\n",
    "plt.show()"
   ]
  },
  {
   "cell_type": "code",
   "execution_count": null,
   "id": "131de5dd",
   "metadata": {},
   "outputs": [],
   "source": []
  }
 ],
 "metadata": {
  "kernelspec": {
   "display_name": "Python 3 (ipykernel)",
   "language": "python",
   "name": "python3"
  },
  "language_info": {
   "codemirror_mode": {
    "name": "ipython",
    "version": 3
   },
   "file_extension": ".py",
   "mimetype": "text/x-python",
   "name": "python",
   "nbconvert_exporter": "python",
   "pygments_lexer": "ipython3",
   "version": "3.10.9"
  }
 },
 "nbformat": 4,
 "nbformat_minor": 5
}
